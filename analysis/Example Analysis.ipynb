{
 "cells": [
  {
   "cell_type": "markdown",
   "id": "a1449594",
   "metadata": {},
   "source": [
    "## Example Analysis\n",
    "\n",
    "This notebook contains some examples for analysing cosmic ray data that has been saved and converted to 'pickle' format.\n",
    "\n",
    "The first cell below shows how to open a file, extract the events, and count the total number of events."
   ]
  },
  {
   "cell_type": "code",
   "execution_count": 1,
   "id": "33354017",
   "metadata": {},
   "outputs": [
    {
     "name": "stdout",
     "output_type": "stream",
     "text": [
      "Read 13741 events from file\n"
     ]
    }
   ],
   "source": [
    "import pickle\n",
    "\n",
    "import sys\n",
    "sys.path.append(\"../analysis\")\n",
    "from event import Event, Pulse\n",
    "\n",
    "fname = 'sample.pkl'\n",
    "\n",
    "ifile = open(fname, 'rb')\n",
    "events= pickle.load(ifile, encoding='latin1')\n",
    "n_events= len(events)\n",
    "\n",
    "print(\"Read {} events from file\".format(n_events))"
   ]
  },
  {
   "cell_type": "markdown",
   "id": "fc38fe14",
   "metadata": {},
   "source": [
    "Next is an example of a very simple event loop, which counts the number of rising edge pulses (strictly, transitions) on each channel.  The first loop is over the events in the file, the second loop is over the pulses in an event.  If a pulse is a rising edge, then the code increments an element of count, corresponding to the channel number."
   ]
  },
  {
   "cell_type": "code",
   "execution_count": 2,
   "id": "fcb85e6d",
   "metadata": {},
   "outputs": [
    {
     "name": "stdout",
     "output_type": "stream",
     "text": [
      "Counts by channel\n",
      "Channel 0 : 8151 \n",
      "Channel 1 : 6986 \n",
      "Channel 2 : 9816 \n",
      "Channel 3 : 6831 \n"
     ]
    }
   ],
   "source": [
    "# example event loop\n",
    "count = [0, 0, 0, 0]  # counts per channel\n",
    "\n",
    "for event in events:\n",
    "    for pulse in event.pulses:\n",
    "        # only count rising edges\n",
    "        if pulse.edge == 0:\n",
    "            count[pulse.chan] += 1\n",
    "\n",
    "print(\"Counts by channel\")\n",
    "print(\"Channel 0 : {} \".format(count[0]))\n",
    "print(\"Channel 1 : {} \".format(count[1]))\n",
    "print(\"Channel 2 : {} \".format(count[2]))\n",
    "print(\"Channel 3 : {} \".format(count[3]))"
   ]
  },
  {
   "cell_type": "markdown",
   "id": "55c5db81",
   "metadata": {},
   "source": [
    "The next cell shows a method for counting coincidences between channels.  Note the additional variables in the event loop, which allow us to calculate summary information about each event.  After looping over the pulses in an event, found0 and found1 are True if rising edge pulses have been found on channels 0 and 1 respectively."
   ]
  },
  {
   "cell_type": "code",
   "execution_count": 3,
   "id": "66ee47dc",
   "metadata": {},
   "outputs": [
    {
     "name": "stdout",
     "output_type": "stream",
     "text": [
      "N (0,1) coincidences : 5716\n"
     ]
    }
   ],
   "source": [
    "n_coinc = 0\n",
    "for event in events:\n",
    "    found0 = False\n",
    "    found1 = False\n",
    "    for pulse in event.pulses:\n",
    "        # only count rising edges\n",
    "        if pulse.edge==0 and pulse.chan == 0:\n",
    "            found0 = True\n",
    "        if pulse.edge==0 and pulse.chan == 1:\n",
    "            found1 = True\n",
    "    if found0 and found1:\n",
    "        n_coinc += 1\n",
    "            \n",
    "print(\"N (0,1) coincidences : {}\".format(n_coinc))"
   ]
  },
  {
   "cell_type": "markdown",
   "id": "d00edd0f",
   "metadata": {},
   "source": [
    "The final cell has an example for extracting time information from the pulses.  Two additional \"event\" variables are computed in the loop over pulses; time0 and time1, which are used to store the time of a rising-edge pulse on channels 0 and 1 - if such pulses are found.  If a coincidence between channels 0 and 1 is found, the difference in time is stored, and then plotted in a histogram.  Finally, some summary information about the distribution of delta-T values is printed."
   ]
  },
  {
   "cell_type": "code",
   "execution_count": 5,
   "id": "c6fe1a26",
   "metadata": {},
   "outputs": [
    {
     "data": {
      "image/png": "[encoded data removed]",
      "text/plain": [
       "<Figure size 432x288 with 1 Axes>"
      ]
     },
     "metadata": {
      "needs_background": "light"
     },
     "output_type": "display_data"
    },
    {
     "name": "stdout",
     "output_type": "stream",
     "text": [
      "Mean delta-t : 2.280003498950315\n",
      "Std dev delta-t : 3.969166488093526\n"
     ]
    }
   ],
   "source": [
    "import numpy as np\n",
    "import matplotlib.pyplot as plt\n",
    "\n",
    "dts = []\n",
    "for event in events:\n",
    "    found0 = False\n",
    "    found1 = False\n",
    "    time0 = 0.\n",
    "    time1 = 0.\n",
    "    for pulse in event.pulses:\n",
    "        # only count rising edges\n",
    "        if pulse.edge==0 and pulse.chan == 0:\n",
    "            found0 = True\n",
    "            time0 = pulse.time\n",
    "        if pulse.edge==0 and pulse.chan == 1:\n",
    "            found1 = True\n",
    "            time1 = pulse.time\n",
    "    if found0 and found1:\n",
    "        dts.append(abs(time1-time0))\n",
    "\n",
    "bins = np.linspace(0.,100., 100)\n",
    "plt.hist(dts, bins)\n",
    "plt.yscale('log')\n",
    "plt.ylabel(\"N\")\n",
    "plt.xlabel(r'$\\Delta t$')\n",
    "plt.show()\n",
    "\n",
    "print(\"Mean delta-t : {}\".format(np.mean(dts)))\n",
    "print(\"Std dev delta-t : {}\".format(np.std(dts)))"
   ]
  },
  {
   "cell_type": "code",
   "execution_count": null,
   "id": "e92686bf",
   "metadata": {},
   "outputs": [],
   "source": []
  }
 ],
 "metadata": {
  "kernelspec": {
   "display_name": "Python 3 (ipykernel)",
   "language": "python",
   "name": "python3"
  },
  "language_info": {
   "codemirror_mode": {
    "name": "ipython",
    "version": 3
   },
   "file_extension": ".py",
   "mimetype": "text/x-python",
   "name": "python",
   "nbconvert_exporter": "python",
   "pygments_lexer": "ipython3",
   "version": "3.8.5"
  }
 },
 "nbformat": 4,
 "nbformat_minor": 5
}
